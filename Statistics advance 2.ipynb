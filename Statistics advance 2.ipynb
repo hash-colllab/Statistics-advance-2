{
 "cells": [
  {
   "cell_type": "markdown",
   "id": "ca6bf70c-1cb3-4aa0-95b6-210421304439",
   "metadata": {},
   "source": [
    "Answer 1:-"
   ]
  },
  {
   "cell_type": "markdown",
   "id": "d4ca44f7-5154-4604-817b-ac9696e96f03",
   "metadata": {},
   "source": [
    "A probability mass function (PMF) is a function that gives the probability that a discrete random variable is exactly equal to some value. It’s used to describe the probability distribution of discrete random variables, which can take on a finite or countably infinite number of possible values."
   ]
  },
  {
   "cell_type": "markdown",
   "id": "163c34f1-8c9b-42c0-9f47-b17093908718",
   "metadata": {},
   "source": [
    "Properties:\n",
    "The sum of all probabilities for all possible values must equal 1.\n",
    "Each probability must be non-negative.\n",
    "Example: If you roll a fair six-sided die, the PMF for each outcome (1 through 6) is ( \\frac{1}{6} )."
   ]
  },
  {
   "cell_type": "markdown",
   "id": "5a25eb9d-e138-4396-bd4b-0cf8895b287c",
   "metadata": {},
   "source": [
    "Probability Density Function is used for calculating the probabilities for continuous random variables. When the cumulative distribution function (CDF) is differentiated we get the probability density function (PDF). "
   ]
  },
  {
   "cell_type": "markdown",
   "id": "39441608-05f8-4843-915d-6cf8923822cd",
   "metadata": {},
   "source": [
    "Answer 2:-"
   ]
  },
  {
   "cell_type": "markdown",
   "id": "93c4133c-8991-41ba-abbe-0b9849ac0d92",
   "metadata": {},
   "source": [
    "The Cumulative Density Function (CDF) is a function used to describe the cumulative probability distribution of a random variable. For both discrete and continuous random variables, the CDF provides the probability that the random variable takes on a value less than or equal to a specified value."
   ]
  },
  {
   "cell_type": "markdown",
   "id": "935ef02f-c205-4e98-93f0-e9d7b384d322",
   "metadata": {},
   "source": [
    "Considering the above example of Rolling a fair dice ,\n",
    "Possible outcomes = {1,2,3,4,5,6}\n",
    "p(X=1) = p(X=2) = p(X=3) = p(X=4) = p(X=5) = p(X=6) = 1/6\n",
    "\n",
    "Suppose we are asked to find out the probability of the occurance of the number less than or equal to 4 ,\n",
    "\n",
    "P(X<=4) = P(X=1) + P(X=2) + P(X=3) + P(X=4)\n",
    "--> 1/6+1/6+1/6+1/6\n",
    "--> 4/6\n",
    "--> 2/3\n",
    "\n",
    "This can be directly computed with the help of CDF graph visualization"
   ]
  },
  {
   "cell_type": "markdown",
   "id": "713bd006-f338-4f6d-88c0-3315da5e8d19",
   "metadata": {},
   "source": [
    "Answer 3:-"
   ]
  },
  {
   "cell_type": "markdown",
   "id": "5c4d0bec-675f-4340-9eb9-f72fc2da7290",
   "metadata": {},
   "source": [
    "\n",
    "The normal distribution / Gaussian distribution is often applied in situations where the data exhibit a bell-shaped, symmetric pattern around the mean.\n",
    "\n",
    "Some examples of situations where the normal distribution might be used as a model include:\n",
    "\n",
    "Height and Weight of Individuals: The distribution of adult heights and weights tends to follow a roughly normal distribution, with most individuals close to the mean height and weight.\n",
    "\n",
    "Test Scores: In educational testing, the scores of large groups of students on standardized tests often approximate a normal distribution.\n",
    "\n",
    "The normal distribution is characterized by two parameters:\n",
    "\n",
    "mean (μ)\n",
    "standard deviation (σ).\n",
    "\n",
    "The shape of the normal distribution remains constant for a given mean, but the spread changes as the standard deviation varies. A smaller standard deviation makes the distribution more peaked and concentrated around the mean, while a larger standard deviation results in a flatter, wider distribution.\n"
   ]
  },
  {
   "cell_type": "markdown",
   "id": "f91e84f3-0a8d-4db8-b535-a1d1f58685a9",
   "metadata": {},
   "source": [
    "Answer 4:-"
   ]
  },
  {
   "cell_type": "markdown",
   "id": "27b472f7-ca8c-48d3-ab87-365b8dcd8335",
   "metadata": {},
   "source": [
    "The importance of Normal Distribution lies in the following aspects:\n",
    "\n",
    "Central Limit Theorem: One of the key reasons for the significance of the normal distribution is the Central Limit Theorem (CLT). The CLT states that the sum (or average) of a large number of independent and identically distributed random variables, regardless of their original distribution, will be approximately normally distributed."
   ]
  },
  {
   "cell_type": "markdown",
   "id": "d7a5b98e-3b2e-4081-9222-d0747b4c478e",
   "metadata": {},
   "source": [
    "The importance of Normal Distribution lies in the following aspects:\n",
    "\n",
    "Central Limit Theorem: One of the key reasons for the significance of the normal distribution is the Central Limit Theorem (CLT). The CLT states that the sum (or average) of a large number of independent and identically distributed random variables, regardless of their original distribution, will be approximately normally distributed."
   ]
  },
  {
   "cell_type": "markdown",
   "id": "566cf559-e5bf-4d0b-a7bd-b349fd416080",
   "metadata": {},
   "source": [
    "Examples of Real-Life Normal Distributions:\n",
    "\n",
    "IQ Scores: IQ (intelligence quotient) scores of a large population tend to follow an approximately normal distribution. The mean IQ is set at 100, and the standard deviation is typically set at 15. This distribution is useful for understanding intelligence levels in the population.\n",
    "\n",
    "Height of Adult Humans: The heights of adult humans in a given population often approximate a normal distribution. The distribution is centered around the average height, with a standard deviation reflecting the variability of heights.\n"
   ]
  },
  {
   "cell_type": "markdown",
   "id": "4688bc3e-fabd-4ad5-a71f-cdb9b2d34069",
   "metadata": {},
   "source": [
    "Answer 5:-"
   ]
  },
  {
   "cell_type": "markdown",
   "id": "9119683b-aa1b-4aae-bc19-ff15916f9ac9",
   "metadata": {},
   "source": [
    "The Bernoulli distribution is a discrete probability distribution that models a single binary outcome in a single trial of an experiment. It represents a situation where there are only two possible outcomes: success (usually denoted as \"1\") with probability \"p\" and failure (usually denoted as \"0\") with probability \"q,\" where \"q = 1 - p.\""
   ]
  },
  {
   "cell_type": "markdown",
   "id": "8cd7c005-164c-420e-82c5-4051cc79366c",
   "metadata": {},
   "source": [
    "The Probability Mass Function (PMF) of the Bernoulli distribution is given by:\n",
    "\n",
    "P(X = x) = p^x * q^(1-x)\n",
    "\n",
    "where:\n",
    "\n",
    "P(X = x) is the probability of observing outcome \"x\" (either 0 or 1).\n",
    "\"x\" takes the value 1 for success and 0 for failure.\n",
    "\"p\" is the probability of success.\n",
    "\"q\" is the probability of failure."
   ]
  },
  {
   "cell_type": "markdown",
   "id": "739a0fa1-5a11-4481-b559-3124a8f8d661",
   "metadata": {},
   "source": [
    "For Example Consider flipping a fair coin\n",
    "\n",
    "The PMF of the Bernoulli distribution for this coin flip is as follows:\n",
    "\n",
    "P(X = 1) = 0.5 (probability of getting heads)\n",
    "P(X = 0) = 0.5 (probability of getting tails)\n"
   ]
  },
  {
   "cell_type": "markdown",
   "id": "3d714187-e430-44f7-b174-5fcbba9573d5",
   "metadata": {},
   "source": [
    "Answer 6:-"
   ]
  },
  {
   "cell_type": "code",
   "execution_count": 1,
   "id": "e620337e-36a7-42b6-af6f-9b6eceb51767",
   "metadata": {},
   "outputs": [
    {
     "name": "stdout",
     "output_type": "stream",
     "text": [
      "The probability of selected observation being greater than 60 is: 0.15865525393145707\n"
     ]
    }
   ],
   "source": [
    "from scipy.stats import norm\n",
    "\n",
    "mean = 50\n",
    "std_dev = 10\n",
    "observed_value = 60\n",
    "\n",
    "# calculate the z-score\n",
    "z_score = (observed_value - mean) / std_dev\n",
    "\n",
    "# calculate the probability using the cumulative distribution function (cdf)\n",
    "probability = 1 - norm.cdf(z_score)\n",
    "\n",
    "print(\"The probability of selected observation being greater than 60 is:\",probability)"
   ]
  },
  {
   "cell_type": "markdown",
   "id": "f02a083b-e0b3-4cc8-928e-521eb7360614",
   "metadata": {},
   "source": [
    "Answer 7:-"
   ]
  },
  {
   "cell_type": "markdown",
   "id": "7440f8a3-f579-422f-b22a-da65b8d86151",
   "metadata": {},
   "source": [
    "The uniform distribution is a continuous probability distribution that models a situation where all outcomes within a specified range are equally likely."
   ]
  },
  {
   "cell_type": "markdown",
   "id": "0cde998f-0f55-4eef-9157-9a2e4eca8d95",
   "metadata": {},
   "source": [
    "The PDF of a continuous uniform distribution over the interval [a, b] is given by:\n",
    "\n",
    "\n",
    "f(x) = 1 / (b - a) for a ≤ x ≤ b,\n",
    "f(x) = 0 elsewhere.\n",
    "where \"a\" is the lower bound of the interval, \"b\" is the upper bound, and \"x\" is a point in the range of the distribution.\n"
   ]
  },
  {
   "cell_type": "markdown",
   "id": "02c67304-81b1-492d-a967-7bf28824c3c0",
   "metadata": {},
   "source": [
    "Considering an example of Rolling a fair dice ,\n",
    "Possible outcomes = {1,2,3,4,5,6}\n",
    "p(X=1) = p(X=2) = p(X=3) = p(X=4) = p(X=5) = p(X=6) = 1/6\n"
   ]
  },
  {
   "cell_type": "markdown",
   "id": "e54a9245-066a-401c-b1b6-1973c8302b0d",
   "metadata": {},
   "source": [
    "Answer 8:-"
   ]
  },
  {
   "cell_type": "markdown",
   "id": "9f707e66-7b6d-4b80-84d0-6cded9d7b251",
   "metadata": {},
   "source": [
    "The z-score, also known as the standard score, is a statistical measure that quantifies the number of standard deviations a data point is from the mean of its distribution. It is used to standardize and compare data points across different distributions, allowing for a common scale of comparison.\r\n",
    "\r\n",
    "Mathematically, the z-score of a data point \"x\" in a distribution with mean \"μ\" and standard deviation \"σ\" is calculated as:\r\n",
    "\r\n",
    "z = (x - μ) / σ"
   ]
  },
  {
   "cell_type": "markdown",
   "id": "85e15ecb-ce08-46df-aba1-c290a5dfd7dd",
   "metadata": {},
   "source": [
    "Importance of the z-score:\n",
    "\n",
    "Standardization:\n",
    "The z-score standardizes data, enabling comparisons and evaluations across different distributions.\n",
    "\n",
    "Outlier Detection:\n",
    "Z-scores are useful for identifying outliers in a dataset. Data points with z-scores significantly larger or smaller than zero are considered outliers and may require further investigation.\n",
    "\n",
    "Hypothesis Testing:\n",
    "In hypothesis testing, z-scores are used to determine the statistical significance of results.\n"
   ]
  },
  {
   "cell_type": "code",
   "execution_count": null,
   "id": "30b253ba-bef0-4c50-9725-9e6855a670c4",
   "metadata": {},
   "outputs": [],
   "source": []
  }
 ],
 "metadata": {
  "kernelspec": {
   "display_name": "Python 3 (ipykernel)",
   "language": "python",
   "name": "python3"
  },
  "language_info": {
   "codemirror_mode": {
    "name": "ipython",
    "version": 3
   },
   "file_extension": ".py",
   "mimetype": "text/x-python",
   "name": "python",
   "nbconvert_exporter": "python",
   "pygments_lexer": "ipython3",
   "version": "3.12.4"
  }
 },
 "nbformat": 4,
 "nbformat_minor": 5
}
